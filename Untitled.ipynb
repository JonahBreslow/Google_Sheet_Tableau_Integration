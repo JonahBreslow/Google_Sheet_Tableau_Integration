{
 "cells": [
  {
   "cell_type": "markdown",
   "metadata": {},
   "source": [
    "# How to Integrate Google Sheets into Tableau Public for Custom Dashboard Refresh Rates"
   ]
  },
  {
   "cell_type": "markdown",
   "metadata": {},
   "source": [
    "## Process Overview:\n",
    "The purpose of this document is to describe a method to automatically refresh a Tableau Public document more than once every 24 hours, \n",
    "at whatever schedule is required, using python. There are essentially two main steps to implementing this solution:\n",
    "\n",
    "Connect the Tableau dashboard to Google Sheets\n",
    "Use Selenium, a python package that can control a web browser, to refresh the Google Sheets data connection.\n",
    "\n",
    "Additionally, depending on the environment, scheduling this process to happen at a specified rate can be achieved with a native \n",
    "scheduling tool (Microsoft Task Scheduler), or it can be done using python.\n",
    "\n",
    "## Process Steps:\n",
    "### Step 1: Configure gspread API in python\n",
    "Create a new google sheet, or multiple google sheets if required, that will contain the data to be presented in the Tableau Public dashboard. Then, follow the instructions in this youtube video:\n",
    "https://www.youtube.com/watch?v=vISRn5qFrkM.\n",
    "\n",
    "I will highlight the steps in the video here. Feel free to skip to the next section if the video is sufficient.\n",
    "\n",
    "1. Navigate to console.developers.google.com and create a new project.\n",
    "2. Then, click on “Library”, add the Google Drive API, and select “Enable”\n",
    "3. Next, click on “CREATE CREDENTIALS” in the upper right hand corner and complete them like the following screenshot, then click “What credentials do I need?” at the bottom.\n",
    "<div>\n",
    "<img src=\"Image1.png\" width=\"400\"/>\n",
    "</div>\n",
    "4. Then, create a service account and name it whatever you would like. Change Role to Project >> Editor. Keep JSON selected as Key type. Then select “Continue”. This essentially creates a google account that can be manipulated using the API. Use the following screenshot for guidance.\n",
    "<div>\n",
    "<img src=\"Image2.png\" width=\"700\"/>\n",
    "</div>\n",
    "5. This will download a JSON file to your computer. Open the JSON file in a text editor like Notepad++, Sublime, Atom, etc. and copy the “client_email” address like the following screenshot. Move this JSON file to your project directory.\n",
    "<div>\n",
    "<img src=\"Image3.png\" width=\"700\"/>\n",
    "</div>\n",
    "6. Now, open the Google Sheet, or multiple Google Sheets you have created, and click “Share” in the top right corner. Paste in the email you just copied, and share the Sheet.\n",
    "7. Now, create a python script in your project directory. Write the following lines of code. Please note, you will need to change the **‘Test-9176086fefeb.json’** to the name of *your* JSON file and **‘Test’** to the name of *your* google sheet.\n",
    "<div>\n",
    "<img src=\"Image4.png\" width=\"700\"/>\n",
    "</div>\n",
    "8. Now, run this python script in your terminal. You may need to install gspread and oauth2client first. Additionally, if you receive an error message, it will contain a URL. Copy that URL and paste it in your browser. This will give the service account you created access to the Google Sheets API, as well as the Google Drive API you already set up. Then, run the python script again and it should print out whatever you have in the Google Sheet. \n",
    "9. Now, you are connected and ready to manipulate google sheets with python. Please read the following documentation for methods and functions you can use in the gspread API: https://gspread.readthedocs.io/en/latest/.\n",
    "You can add rows, update cells, delete cells, and interact with google sheets how you normally would, but through a python script.\n",
    "\n",
    "### Step 2: Setting up Selenium\n",
    "1. Install Chromedriver here: https://chromedriver.chromium.org/downloads. Choose the correct download for the version of chrome you are running.\n",
    "2. Move the chromedriver out of your downloads folder and into your project directory.\n",
    "3. In the terminal, install selenium. I used ***pip3 install selenium***, but you may have to install it a different way depending on what version of python you are running.\n",
    "4. *Copy and paste the following code into your python script*. This script opens up chrome, logs into tableau, opens up the correct dashboard, scrolls to the bottom and refreshes the google sheet connection, and then refreshes the page. You will need to fill in your Tableau Public username and password. Additionally, you will need to link to the correct URL where the tableau workbook is that is connected to your google sheet. You might need to change the xpaths and IDs to those that are relevant to your dashboard. There are plenty of tutorials on how to use selenium. \n",
    "\n"
   ]
  },
  {
   "cell_type": "code",
   "execution_count": null,
   "metadata": {},
   "outputs": [],
   "source": [
    "chrome_options = webdriver.ChromeOptions()\n",
    "chrome_options.add_argument('--no-sandbox')\n",
    "driver = webdriver.Chrome(options=chrome_options)\n",
    "\n",
    "\n",
    "driver.get(\"https://public.tableau.com/en-us/s/\")\n",
    "time.sleep(4)\n",
    "driver.find_elements_by_xpath('//*[@id=\"block-menu-block-1\"]/div/ul/li[7]/a')[0].click()\n",
    "\n",
    "user = '***@****.com' # Tableau Username\n",
    "user_sign_in = driver.find_elements_by_id('login-email')[0]\n",
    "user_sign_in.send_keys(user)\n",
    "\n",
    "pword = '*********' # Tableau Password\n",
    "pword_sign_in = driver.find_elements_by_id('login-password')[0]\n",
    "pword_sign_in.send_keys(pword)\n",
    "\n",
    "driver.find_element_by_id('signin-submit').click()\n",
    "time.sleep(4)\n",
    "\n",
    "driver.get('*********') # URL to Tableau Dashboard\n",
    "time.sleep(4)\n",
    "driver.refresh()\n",
    "time.sleep(4)\n",
    "# # Scroll to bottom of page so refresh is in view\n",
    "driver.execute_script(\"window.scrollTo(0, document.body.scrollHeight);\")\n",
    "time.sleep(4)\n",
    "\n",
    "refresh_gsheet = driver.find_element_by_xpath('//*[@id=\"ng-app\"]/body/div[1]/div[2]/section/div/div[2]/section[3]/div/figcaption/div[2]/div/div/div[2]/dl/div[1]/dd/button').click()\n",
    "driver.refresh()\n",
    "time.sleep(4)\n",
    "driver.refresh()\n",
    "time.sleep(4)\n",
    "driver.quit()"
   ]
  }
 ],
 "metadata": {
  "kernelspec": {
   "display_name": "Python 3",
   "language": "python",
   "name": "python3"
  },
  "language_info": {
   "codemirror_mode": {
    "name": "ipython",
    "version": 3
   },
   "file_extension": ".py",
   "mimetype": "text/x-python",
   "name": "python",
   "nbconvert_exporter": "python",
   "pygments_lexer": "ipython3",
   "version": "3.6.5"
  }
 },
 "nbformat": 4,
 "nbformat_minor": 2
}
